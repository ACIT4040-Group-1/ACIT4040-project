{
 "cells": [
  {
   "cell_type": "code",
   "execution_count": 9,
   "metadata": {
    "collapsed": true,
    "pycharm": {
     "name": "#%%\n"
    }
   },
   "outputs": [
    {
     "data": {
      "text/plain": "<BatchDataset element_spec=(TensorSpec(shape=(None, None, None, 3), dtype=tf.float32, name=None), TensorSpec(shape=(None,), dtype=tf.int64, name=None))>"
     },
     "execution_count": 9,
     "metadata": {},
     "output_type": "execute_result"
    }
   ],
   "source": [
    "import tensorflow as tf\n",
    "from common.data_loader import  DataLoader\n",
    "import numpy as np\n",
    "\n",
    "DL = DataLoader()\n",
    "test_ds = DL.get_data(\"test\")\n",
    "\n"
   ]
  },
  {
   "cell_type": "code",
   "execution_count": 23,
   "outputs": [
    {
     "ename": "AttributeError",
     "evalue": "module 'tensorflow' has no attribute 'Session'",
     "output_type": "error",
     "traceback": [
      "\u001B[1;31m---------------------------------------------------------------------------\u001B[0m",
      "\u001B[1;31mAttributeError\u001B[0m                            Traceback (most recent call last)",
      "Cell \u001B[1;32mIn [23], line 7\u001B[0m\n\u001B[0;32m      4\u001B[0m iterator \u001B[38;5;241m=\u001B[39m \u001B[38;5;28miter\u001B[39m(test_ds_ub)\n\u001B[0;32m      5\u001B[0m images , label \u001B[38;5;241m=\u001B[39m iterator\u001B[38;5;241m.\u001B[39mget_next()\n\u001B[1;32m----> 7\u001B[0m \u001B[38;5;28;01mwith\u001B[39;00m tf\u001B[38;5;241m.\u001B[39mSession() \u001B[38;5;28;01mas\u001B[39;00m sess:\n\u001B[0;32m      8\u001B[0m   \u001B[38;5;28mprint\u001B[39m(sess\u001B[38;5;241m.\u001B[39mrun(label))\n\u001B[0;32m      9\u001B[0m   \u001B[38;5;28mprint\u001B[39m(sess\u001B[38;5;241m.\u001B[39mrun(images\u001B[38;5;241m.\u001B[39mget_shape()))\n",
      "\u001B[1;31mAttributeError\u001B[0m: module 'tensorflow' has no attribute 'Session'"
     ]
    }
   ],
   "source": [
    "test_ds_ub = test_ds.unbatch()\n",
    "\n",
    "dataset = test_ds_ub\n",
    "iterator = iter(test_ds_ub)\n",
    "images , label = iterator.get_next()\n",
    "\n",
    "with tf.Session() as sess:\n",
    "    sess.run(tf.global_variables_initializer())\n",
    "\n",
    "    try:\n",
    "        # Keep running next_batch till the Dataset is exhausted\n",
    "        while True:\n",
    "            sess.run(next_batch)\n",
    "\n",
    "    except tf.errors.OutOfRangeError:\n",
    "        pass\n"
   ],
   "metadata": {
    "collapsed": false,
    "pycharm": {
     "name": "#%%\n"
    }
   }
  },
  {
   "cell_type": "code",
   "execution_count": null,
   "outputs": [],
   "source": [
    "list(test_ds.as_numpy_iterator())"
   ],
   "metadata": {
    "collapsed": false,
    "pycharm": {
     "name": "#%%\n",
     "is_executing": true
    }
   }
  },
  {
   "cell_type": "code",
   "execution_count": null,
   "outputs": [],
   "source": [
    "y = np.concatenate([y for x, y in test_ds], axis=0)\n",
    "y"
   ],
   "metadata": {
    "collapsed": false,
    "pycharm": {
     "name": "#%%\n",
     "is_executing": true
    }
   }
  },
  {
   "cell_type": "code",
   "execution_count": null,
   "outputs": [],
   "source": [
    "images = []\n",
    "labels = []\n",
    "for image, label in test_ds:\n",
    "    images.append(image)\n",
    "    labels.append(label)\n",
    "images\n",
    "labels\n"
   ],
   "metadata": {
    "collapsed": false,
    "pycharm": {
     "name": "#%%\n",
     "is_executing": true
    }
   }
  },
  {
   "cell_type": "code",
   "execution_count": null,
   "outputs": [],
   "source": [
    "#unbatch\n",
    "test_ds_ub = test_ds.unbatch()\n",
    "test_ds_ub\n",
    "#itterate over all tensors in df\n",
    "iterator = iter(test_ds)\n",
    "\n",
    "\n",
    "if iterator.get_next():\n",
    "    tf.debugging.assert_all_finite(iterator.get_next(), message= \"not OK\", name=None)\n",
    "\n"
   ],
   "metadata": {
    "collapsed": false,
    "pycharm": {
     "name": "#%%\n",
     "is_executing": true
    }
   }
  },
  {
   "cell_type": "code",
   "execution_count": null,
   "outputs": [],
   "source": [
    "tf.debugging.assert_all_finite(test_ds, message= \"not OK\", name=None)"
   ],
   "metadata": {
    "collapsed": false,
    "pycharm": {
     "name": "#%%\n"
    }
   }
  }
 ],
 "metadata": {
  "kernelspec": {
   "display_name": "Python 3",
   "language": "python",
   "name": "python3"
  },
  "language_info": {
   "codemirror_mode": {
    "name": "ipython",
    "version": 2
   },
   "file_extension": ".py",
   "mimetype": "text/x-python",
   "name": "python",
   "nbconvert_exporter": "python",
   "pygments_lexer": "ipython2",
   "version": "2.7.6"
  }
 },
 "nbformat": 4,
 "nbformat_minor": 0
}